{
 "cells": [
  {
   "cell_type": "markdown",
   "id": "27931f5d",
   "metadata": {},
   "source": [
    "# Examen Encert\n",
    "## Análisi inicial del fichero\n",
    "Inicialmente tendrá que leer este fichero y analizar su contenido. En este va encontrar el histórico de datos del EURUSD en candles. Por consiguiente se pregunta:\n",
    "1. ¿Qué columnas de datos forman el fichero?"
   ]
  },
  {
   "cell_type": "code",
   "execution_count": 1,
   "id": "c0508a9f",
   "metadata": {},
   "outputs": [],
   "source": [
    "import pandas as pd\n",
    "from matplotlib import pyplot as plt\n",
    "from matplotlib.pyplot import figure\n",
    "\n",
    "# We introduce filename as a variable for future works\n",
    "filename = 'ohlcEURUSD_2005-2019.csv'"
   ]
  },
  {
   "cell_type": "code",
   "execution_count": null,
   "id": "4f389fe5",
   "metadata": {},
   "outputs": [],
   "source": [
    "# Use your code here to solve question 1 and explain."
   ]
  },
  {
   "cell_type": "markdown",
   "id": "fd3cd784",
   "metadata": {},
   "source": [
    "2. ¿Qué rango temporal cubre este histórico de datos?"
   ]
  },
  {
   "cell_type": "code",
   "execution_count": null,
   "id": "36791c28",
   "metadata": {},
   "outputs": [],
   "source": [
    "# minimum date of df\n",
    "\n",
    "# maxmimum date of df\n",
    "\n",
    "# show values"
   ]
  },
  {
   "cell_type": "markdown",
   "id": "05057baa",
   "metadata": {},
   "source": [
    "3. Por cada fila tenemos cuatro variables que definen la información del candle. ¿Qué significa cada una de las variables?"
   ]
  },
  {
   "cell_type": "markdown",
   "id": "012b4c95",
   "metadata": {},
   "source": [
    "4. Existen intervalos temporales en este fichero donde no se dispone de la información del EURUSD. ¿Puede localizar algunos? ¿Por qué cree que no se ha podido disponer de dicha información?"
   ]
  },
  {
   "cell_type": "code",
   "execution_count": null,
   "id": "b723a45f",
   "metadata": {},
   "outputs": [],
   "source": [
    "# We obtain an object containing all the possible time intervals between minDate and maxDate\n",
    "# write your code here\n",
    "\n",
    "# We convert it into a DataFrame for posteriori job\n",
    "# write your code here\n",
    "\n",
    "# We compare both DataFrames and obtain the list of dates that are not in our file\n",
    "# write your code here"
   ]
  },
  {
   "cell_type": "markdown",
   "id": "6d53b5f5",
   "metadata": {},
   "source": [
    "## Extracción estadísticas\n",
    "A continuación definiremos 3 nuevas variables que las llamaremos open2high, open2low y open2close, las cuales corresponden a la diferencia en **pips** del valor del high, low y close respecto al open para cada candle. Por consiguiente se pide:\n",
    "1. Dibujar los hitogramas de las variables open2high, open2low y open2close para todo el histórico, los 1000 primeros candles y el año 2018."
   ]
  },
  {
   "cell_type": "code",
   "execution_count": null,
   "id": "6d890b5d",
   "metadata": {},
   "outputs": [],
   "source": [
    "# Adding new variables open2high, open2low and open2close\n",
    "\n",
    "\n",
    "# We plot the histogram of the 1000 first candles(rows)\n"
   ]
  },
  {
   "cell_type": "markdown",
   "id": "685fd691",
   "metadata": {},
   "source": [
    "2. Estimar la esperanza, la desviación típica, la mediana y la moda de la variable open2high para todo el histórico. Realizar y presentar los cáclulos en pips y sin decimales (ejemplo: esperanza = 5 pips, ...)"
   ]
  },
  {
   "cell_type": "code",
   "execution_count": null,
   "id": "adfaccc7",
   "metadata": {},
   "outputs": [],
   "source": [
    "# write you solution code here:\n"
   ]
  },
  {
   "cell_type": "markdown",
   "id": "eb098a0d",
   "metadata": {},
   "source": [
    "\n",
    "4. ¿Qué estimadores (escribir fórmula) ha utilizado para calcular la esperanza y la desviación típica?¿Considera que son estimadores de máxima verosimilitud considerando la distribución estadística de la variable open2high?"
   ]
  },
  {
   "cell_type": "markdown",
   "id": "2f673718",
   "metadata": {},
   "source": [
    "## Interpretación de la información para Trading\n",
    "A continuación realizaremos un conjunto de preguntas relacionadas con la información que proporcionan los candles y las variables definidas anteriormente. Considerando las variables open2high, open2low y open2close:\n",
    "1. ¿Cómo calcularía la tendencia del EURUSD durante un candle?\n",
    "\n",
    "2. ¿Cómo calcularía el movimiento máximo del EURUSD que se ha producido durante un candle?\n",
    "\n",
    "3. Qué variables son útiles para determinar la volatilidad de un candle.\n",
    "\n",
    "4. Considere que tuviera una estimación correcta de las variables open2high, open2low y open2close del candle 12:00 a 13:00 al inicio de dicho candle. ¿Cómo podría utilizar esta información para realizar una operación de inversión?\n"
   ]
  }
 ],
 "metadata": {
  "kernelspec": {
   "display_name": "Python 3 (ipykernel)",
   "language": "python",
   "name": "python3"
  },
  "language_info": {
   "codemirror_mode": {
    "name": "ipython",
    "version": 3
   },
   "file_extension": ".py",
   "mimetype": "text/x-python",
   "name": "python",
   "nbconvert_exporter": "python",
   "pygments_lexer": "ipython3",
   "version": "3.8.10"
  }
 },
 "nbformat": 4,
 "nbformat_minor": 5
}
