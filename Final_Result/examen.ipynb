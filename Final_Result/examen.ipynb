{
  "cells": [
    {
      "cell_type": "markdown",
      "id": "27931f5d",
      "metadata": {
        "id": "27931f5d"
      },
      "source": [
        "# Examen Encert\n",
        "## Análisi inicial del fichero\n",
        "Inicialmente tendrá que leer este fichero y analizar su contenido. En este va encontrar el histórico de datos del EURUSD en candles. Por consiguiente se pregunta:\n",
        "1. ¿Qué columnas de datos forman el fichero?"
      ]
    },
    {
      "cell_type": "code",
      "execution_count": null,
      "id": "c0508a9f",
      "metadata": {
        "id": "c0508a9f"
      },
      "outputs": [],
      "source": [
        "import pandas as pd\n",
        "from matplotlib import pyplot as plt\n",
        "from matplotlib.pyplot import figure\n",
        "\n",
        "# We introduce filename as a variable for future works\n",
        "filename = 'ohlcEURUSD_2005-2019.csv'"
      ]
    },
    {
      "cell_type": "code",
      "execution_count": null,
      "id": "4f389fe5",
      "metadata": {
        "colab": {
          "base_uri": "https://localhost:8080/"
        },
        "id": "4f389fe5",
        "outputId": "5c87d827-c635-47e0-bbb4-4e78ae77ae62"
      },
      "outputs": [
        {
          "output_type": "stream",
          "name": "stdout",
          "text": [
            "['Date', 'EURUSD_open', 'EURUSD_high', 'EURUSD_low', 'EURUSD_close']\n"
          ]
        }
      ],
      "source": [
        "# Cargar los datos\n",
        "df = pd.read_csv(filename)\n",
        "\n",
        "# Listar las columnas\n",
        "columnas = list(df.columns)\n",
        "print(columnas)"
      ]
    },
    {
      "cell_type": "markdown",
      "id": "fd3cd784",
      "metadata": {
        "id": "fd3cd784"
      },
      "source": [
        "2. ¿Qué rango temporal cubre este histórico de datos?"
      ]
    },
    {
      "cell_type": "code",
      "execution_count": null,
      "id": "36791c28",
      "metadata": {
        "colab": {
          "base_uri": "https://localhost:8080/"
        },
        "id": "36791c28",
        "outputId": "2a0c65e4-5967-4f51-e1b2-2a5da2540d93"
      },
      "outputs": [
        {
          "output_type": "stream",
          "name": "stdout",
          "text": [
            "Rango temporal: 2005-01-02 22:00:00 a 2010-11-16 01:00:00\n"
          ]
        }
      ],
      "source": [
        "minDate = df['Date'].min()\n",
        "maxDate = df['Date'].max()\n",
        "print(f\"Rango temporal: {minDate} a {maxDate}\")"
      ]
    },
    {
      "cell_type": "markdown",
      "id": "05057baa",
      "metadata": {
        "id": "05057baa"
      },
      "source": [
        "3. Por cada fila tenemos cuatro variables que definen la información del candle. ¿Qué significa cada una de las variables?\n",
        "\n",
        "Las cuatro variables representan lo siguiente:\n",
        "*   EURUSD_open: El precio de apertura del par de divisas EUR/USD.\n",
        "*   EURUSD_high: El precio más alto alcanzado durante el periodo del candle.\n",
        "*   EURUSD_low: El precio más bajo alcanzado durante el periodo del candle.\n",
        "*   EURUSD_close: El precio de cierre del par de divisas EUR/USD.\n",
        "\n",
        "\n",
        "\n",
        "\n"
      ]
    },
    {
      "cell_type": "markdown",
      "id": "012b4c95",
      "metadata": {
        "id": "012b4c95"
      },
      "source": [
        "4. Existen intervalos temporales en este fichero donde no se dispone de la información del EURUSD. ¿Puede localizar algunos? ¿Por qué cree que no se ha podido disponer de dicha información?"
      ]
    },
    {
      "cell_type": "code",
      "execution_count": null,
      "id": "b723a45f",
      "metadata": {
        "colab": {
          "base_uri": "https://localhost:8080/"
        },
        "id": "b723a45f",
        "outputId": "6076c490-0617-4b50-b682-c7f3f408fe1a"
      },
      "outputs": [
        {
          "output_type": "stream",
          "name": "stdout",
          "text": [
            "                     Date\n",
            "120   2005-01-07 22:00:00\n",
            "121   2005-01-07 23:00:00\n",
            "122   2005-01-08 00:00:00\n",
            "123   2005-01-08 01:00:00\n",
            "124   2005-01-08 02:00:00\n",
            "...                   ...\n",
            "51403 2010-11-14 17:00:00\n",
            "51404 2010-11-14 18:00:00\n",
            "51405 2010-11-14 19:00:00\n",
            "51406 2010-11-14 20:00:00\n",
            "51407 2010-11-14 21:00:00\n",
            "\n",
            "[15926 rows x 1 columns]\n"
          ]
        },
        {
          "output_type": "stream",
          "name": "stderr",
          "text": [
            "<ipython-input-6-cb1d6d4b797c>:1: FutureWarning: 'H' is deprecated and will be removed in a future version, please use 'h' instead.\n",
            "  Dates = pd.date_range(start=minDate, end=maxDate, freq='H')\n",
            "<ipython-input-6-cb1d6d4b797c>:5: FutureWarning: The behavior of 'isin' with dtype=datetime64[ns] and castable values (e.g. strings) is deprecated. In a future version, these will not be considered matching by isin. Explicitly cast to the appropriate dtype before calling isin instead.\n",
            "  NotFoundInformationDate = df_date[~df_date['Date'].isin(df['Date'])]\n"
          ]
        }
      ],
      "source": [
        "Dates = pd.date_range(start=minDate, end=maxDate, freq='H')\n",
        "\n",
        "df_date = pd.DataFrame({'Date': Dates})\n",
        "\n",
        "NotFoundInformationDate = df_date[~df_date['Date'].isin(df['Date'])]\n",
        "\n",
        "print(NotFoundInformationDate)\n"
      ]
    },
    {
      "cell_type": "markdown",
      "id": "6d53b5f5",
      "metadata": {
        "id": "6d53b5f5"
      },
      "source": [
        "## Extracción estadísticas\n",
        "A continuación definiremos 3 nuevas variables que las llamaremos open2high, open2low y open2close, las cuales corresponden a la diferencia en **pips** del valor del high, low y close respecto al open para cada candle. Por consiguiente se pide:\n",
        "1. Dibujar los hitogramas de las variables open2high, open2low y open2close para todo el histórico, los 1000 primeros candles y el año 2018."
      ]
    },
    {
      "cell_type": "code",
      "execution_count": null,
      "id": "6d890b5d",
      "metadata": {
        "colab": {
          "base_uri": "https://localhost:8080/",
          "height": 452
        },
        "id": "6d890b5d",
        "outputId": "b5c8e3b8-0204-4422-8446-e65e1aba77d1"
      },
      "outputs": [
        {
          "output_type": "display_data",
          "data": {
            "text/plain": [
              "<Figure size 640x480 with 4 Axes>"
            ],
            "image/png": "[encoded data removed]"
          },
          "metadata": {}
        }
      ],
      "source": [
        "df['open2high'] = (df['EURUSD_high'] - df['EURUSD_open']) * 10000\n",
        "df['open2low'] = (df['EURUSD_low'] - df['EURUSD_open']) * 10000\n",
        "df['open2close'] = (df['EURUSD_close'] - df['EURUSD_open']) * 10000\n",
        "\n",
        "df.hist(column=['open2high', 'open2low', 'open2close'], bins=20, alpha=0.5)\n",
        "plt.title('Histogramas de open2high, open2low y open2close')\n",
        "plt.show()\n",
        "\n"
      ]
    },
    {
      "cell_type": "markdown",
      "id": "685fd691",
      "metadata": {
        "id": "685fd691"
      },
      "source": [
        "2. Estimar la esperanza, la desviación típica, la mediana y la moda de la variable open2high para todo el histórico. Realizar y presentar los cáclulos en pips y sin decimales (ejemplo: esperanza = 5 pips, ...)"
      ]
    },
    {
      "cell_type": "code",
      "execution_count": null,
      "id": "adfaccc7",
      "metadata": {
        "colab": {
          "base_uri": "https://localhost:8080/"
        },
        "id": "adfaccc7",
        "outputId": "eaa01112-5b98-48df-f609-8d931eb1ba4f"
      },
      "outputs": [
        {
          "output_type": "stream",
          "name": "stdout",
          "text": [
            "Mean of open2high: 13\n",
            "Standard deviation of open2high: 14\n",
            "Median of open2high: 9\n",
            "Mode of open2high: 0\n"
          ]
        }
      ],
      "source": [
        "#Hago referencia a un articulo que me ayudo en este paso : https://bookdown.org/aquintela/EBE/esperanza-matematica-de-una-variable-aleatoria.html\n",
        "\n",
        "mean_open2high = int(round(df['open2high'].mean()))\n",
        "std_open2high = int(round(df['open2high'].std()))\n",
        "median_open2high = int(round(df['open2high'].median()))\n",
        "mode_open2high = int(df['open2high'].mode()[0])\n",
        "\n",
        "print('Mean of open2high:', mean_open2high)\n",
        "print('Standard deviation of open2high:', std_open2high)\n",
        "print('Median of open2high:', median_open2high)\n",
        "print('Mode of open2high:', mode_open2high)\n",
        "\n",
        "\n"
      ]
    },
    {
      "cell_type": "markdown",
      "id": "eb098a0d",
      "metadata": {
        "id": "eb098a0d"
      },
      "source": [
        "\n",
        "4. ¿Qué estimadores (escribir fórmula) ha utilizado para calcular la esperanza y la desviación típica?¿Considera que son estimadores de máxima verosimilitud considerando la distribución estadística de la variable open2high?\n",
        "\n",
        "*   Esperanza -> $\\mu = \\frac{1}{n} \\sum_{i=1}^{n} x_i$\n",
        "\n",
        "*   Desviación típica -> $\\sigma^2 = \\frac{1}{n} \\sum_{i=1}^{n} (x_i - \\mu)^2$\n",
        "\n",
        "Estos son estimadores de máxima verosimilitud, asumiendo que los datos siguen una distribución normal.\n",
        "\n",
        "\n",
        "\n",
        "\n",
        "\n",
        "\n",
        "\n",
        "\n"
      ]
    },
    {
      "cell_type": "markdown",
      "id": "2f673718",
      "metadata": {
        "id": "2f673718"
      },
      "source": [
        "## Interpretación de la información para Trading\n",
        "A continuación realizaremos un conjunto de preguntas relacionadas con la información que proporcionan los candles y las variables definidas anteriormente. Considerando las variables open2high, open2low y open2close:\n",
        "1. ¿Cómo calcularía la tendencia del EURUSD durante un candle?\n",
        "\n",
        "Respuesta: Se puede calcular la tendencia observando la variación entre el precio de apertura y el precio de cierre. Si el precio de cierre es mayor que el de apertura, la tendencia es alcista y viceversa.\n",
        "\n",
        "2. ¿Cómo calcularía el movimiento máximo del EURUSD que se ha producido durante un candle?\n",
        "\n",
        "Respuesta: El movimiento máximo se puede determinar como la diferencia entre el precio más alto y el precio más bajo del candle.\n",
        "\n",
        "3. Qué variables son útiles para determinar la volatilidad de un candle.\n",
        "\n",
        "Respuesta: La volatilidad puede medirse utilizando el rango del candle y la desviación estándar de los precios.\n",
        "\n",
        "4. Considere que tuviera una estimación correcta de las variables open2high, open2low y open2close del candle 12:00 a 13:00 al inicio de dicho candle. ¿Cómo podría utilizar esta información para realizar una operación de inversión?\n",
        "\n",
        "Respuesta: Si se tiene una estimación precisa de las variables open2high, open2low y open2close, se pueden establecer órdenes de compra o venta basadas en patrones anticipados.\n"
      ]
    }
  ],
  "metadata": {
    "kernelspec": {
      "display_name": "Python 3 (ipykernel)",
      "language": "python",
      "name": "python3"
    },
    "language_info": {
      "codemirror_mode": {
        "name": "ipython",
        "version": 3
      },
      "file_extension": ".py",
      "mimetype": "text/x-python",
      "name": "python",
      "nbconvert_exporter": "python",
      "pygments_lexer": "ipython3",
      "version": "3.8.10"
    },
    "colab": {
      "provenance": []
    }
  },
  "nbformat": 4,
  "nbformat_minor": 5
}